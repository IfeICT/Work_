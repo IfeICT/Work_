{
 "cells": [
  {
   "cell_type": "code",
   "execution_count": 1,
   "id": "b14313e8-5232-4fb1-8f2b-be4aef3e9fd8",
   "metadata": {},
   "outputs": [
    {
     "data": {
      "text/plain": [
       "<__main__.computer at 0x1de1574e540>"
      ]
     },
     "execution_count": 1,
     "metadata": {},
     "output_type": "execute_result"
    }
   ],
   "source": [
    "class computer():     \n",
    "    def config():   \n",
    "        print('i5', '8gb')\n",
    "\n",
    "com1 = computer()\n",
    "com1"
   ]
  },
  {
   "cell_type": "code",
   "execution_count": 2,
   "id": "b3acd9a0-aaf5-4633-ae6e-cb618c5304d0",
   "metadata": {},
   "outputs": [
    {
     "name": "stdout",
     "output_type": "stream",
     "text": [
      "i5 8gb\n"
     ]
    }
   ],
   "source": [
    "class computer():     \n",
    "    def config():   \n",
    "        print('i5', '8gb')\n",
    "\n",
    "com1 = computer()\n",
    "\n",
    "computer.config()"
   ]
  },
  {
   "cell_type": "code",
   "execution_count": 8,
   "id": "72a41498-f645-4ceb-be74-2212be07c886",
   "metadata": {},
   "outputs": [
    {
     "ename": "TypeError",
     "evalue": "computer.config() takes 0 positional arguments but 1 was given",
     "output_type": "error",
     "traceback": [
      "\u001b[1;31m---------------------------------------------------------------------------\u001b[0m",
      "\u001b[1;31mTypeError\u001b[0m                                 Traceback (most recent call last)",
      "Cell \u001b[1;32mIn[8], line 7\u001b[0m\n\u001b[0;32m      3\u001b[0m         \u001b[38;5;28mprint\u001b[39m(\u001b[38;5;124m'\u001b[39m\u001b[38;5;124mi5\u001b[39m\u001b[38;5;124m'\u001b[39m, \u001b[38;5;124m'\u001b[39m\u001b[38;5;124m8gb\u001b[39m\u001b[38;5;124m'\u001b[39m)\n\u001b[0;32m      5\u001b[0m com1 \u001b[38;5;241m=\u001b[39m computer()\n\u001b[1;32m----> 7\u001b[0m com1\u001b[38;5;241m.\u001b[39mconfig()\n",
      "\u001b[1;31mTypeError\u001b[0m: computer.config() takes 0 positional arguments but 1 was given"
     ]
    }
   ],
   "source": [
    "class computer():     \n",
    "    def config():   \n",
    "        print('i5', '8gb')\n",
    "\n",
    "com1 = computer()\n",
    "\n",
    "com1.config()"
   ]
  },
  {
   "cell_type": "code",
   "execution_count": 13,
   "id": "fcc57ee7-1030-49fa-82ce-b0498627f222",
   "metadata": {},
   "outputs": [
    {
     "name": "stdout",
     "output_type": "stream",
     "text": [
      "i5 8gb\n"
     ]
    }
   ],
   "source": [
    "class computer():     \n",
    "    def config(self):   \n",
    "        print('i5', '8gb')\n",
    "\n",
    "com1 = computer()\n",
    "\n",
    "com1.config()"
   ]
  },
  {
   "cell_type": "code",
   "execution_count": 15,
   "id": "edb973b3-832f-4c3e-b12d-5345228debc4",
   "metadata": {},
   "outputs": [
    {
     "name": "stdout",
     "output_type": "stream",
     "text": [
      "i5 8gb\n"
     ]
    }
   ],
   "source": [
    "class computer():     \n",
    "    def config():   \n",
    "        print('i5', '8gb')\n",
    "\n",
    "com1 = computer()\n",
    "\n",
    "computer.config()"
   ]
  },
  {
   "cell_type": "code",
   "execution_count": 16,
   "id": "2a26e719-8e4f-468e-bd8d-17c071c4b09a",
   "metadata": {},
   "outputs": [
    {
     "name": "stdout",
     "output_type": "stream",
     "text": [
      "i5 8gb\n",
      "i5 8gb\n"
     ]
    }
   ],
   "source": [
    "class computer():     \n",
    "    def config(self):   \n",
    "        print('i5', '8gb')\n",
    "\n",
    "com1 = computer()\n",
    "com2 = computer()\n",
    "com3 = computer()\n",
    "\n",
    "\n",
    "com1.config()\n",
    "com2.config()"
   ]
  },
  {
   "cell_type": "code",
   "execution_count": 17,
   "id": "41b7dc68-4021-4bfc-b38d-c70f3c1fa676",
   "metadata": {},
   "outputs": [
    {
     "name": "stdout",
     "output_type": "stream",
     "text": [
      "i5 8gb\n",
      "i5 8gb\n",
      "i5 8gb\n"
     ]
    }
   ],
   "source": [
    "class computer():     \n",
    "    def config(self):   \n",
    "        print('i5', '8gb')\n",
    "\n",
    "com1 = computer()\n",
    "com2 = computer()\n",
    "com3 = computer()\n",
    "\n",
    "\n",
    "com1.config()\n",
    "com2.config()\n",
    "com3.config()"
   ]
  },
  {
   "cell_type": "code",
   "execution_count": 3,
   "id": "0e94f264-88e1-460f-8938-596b34096e37",
   "metadata": {},
   "outputs": [
    {
     "name": "stdout",
     "output_type": "stream",
     "text": [
      "i5 8gb\n",
      "i5 8gb\n",
      "i5 8gb\n"
     ]
    },
    {
     "ename": "NameError",
     "evalue": "name 'com4' is not defined",
     "output_type": "error",
     "traceback": [
      "\u001b[1;31m---------------------------------------------------------------------------\u001b[0m",
      "\u001b[1;31mNameError\u001b[0m                                 Traceback (most recent call last)",
      "Cell \u001b[1;32mIn[3], line 14\u001b[0m\n\u001b[0;32m     11\u001b[0m com2\u001b[38;5;241m.\u001b[39mconfig()\n\u001b[0;32m     12\u001b[0m com3\u001b[38;5;241m.\u001b[39mconfig()\n\u001b[1;32m---> 14\u001b[0m com4\u001b[38;5;241m.\u001b[39mconfig()\n",
      "\u001b[1;31mNameError\u001b[0m: name 'com4' is not defined"
     ]
    }
   ],
   "source": [
    "class computer():     \n",
    "    def config(self):   \n",
    "        print('i5', '8gb')\n",
    "\n",
    "com1 = computer()\n",
    "com2 = computer()\n",
    "com3 = computer()\n",
    "\n",
    "\n",
    "com1.config()\n",
    "com2.config()\n",
    "com3.config()\n",
    "\n",
    "com4.config()"
   ]
  },
  {
   "cell_type": "code",
   "execution_count": 20,
   "id": "a79f6db6-9b3f-42ff-80fa-9fe8180c9eb3",
   "metadata": {},
   "outputs": [
    {
     "name": "stdout",
     "output_type": "stream",
     "text": [
      "<__main__.computer object at 0x000001DF904B2B70>\n",
      "<__main__.computer object at 0x000001DF904B08F0>\n",
      "<__main__.computer object at 0x000001DF904B13A0>\n",
      "2059710180208\n",
      "2059710171376\n",
      "2059710174112\n",
      "i5 8gb\n",
      "i5 8gb\n",
      "i5 8gb\n"
     ]
    }
   ],
   "source": [
    "class computer:     # computer is the class\n",
    "    def config(self):   # config is the methos   \n",
    "        print('i5', '8gb')\n",
    "\n",
    "com1 = computer()\n",
    "com2 = computer()\n",
    "com3 = computer()\n",
    "\n",
    "print(com1)\n",
    "print(com2)\n",
    "print(com3)\n",
    "\n",
    "print(id(com1))\n",
    "print(id(com2))\n",
    "print(id(com3))\n",
    "\n",
    "com1.config()\n",
    "com2.config()\n",
    "com3.config()"
   ]
  },
  {
   "cell_type": "code",
   "execution_count": 4,
   "id": "749a116e-d9ff-4bed-8f66-9e30fff234f8",
   "metadata": {},
   "outputs": [
    {
     "name": "stdout",
     "output_type": "stream",
     "text": [
      "<class 'int'>\n",
      "<class '__main__.computer'>\n"
     ]
    }
   ],
   "source": [
    "class computer:        # computer is class (user create the class hear(user defind class)\n",
    "    def config():      # confit is method (define some method hear so when we talk class always method will come ( so dont talk about function hear)\n",
    "        print('i5', '8gb') # i want to print configuration of the machine which i5 ram & 8gb ram\n",
    "    \n",
    "a = 8\n",
    "print(type(a))\n",
    "\n",
    "com1 = computer() #com1 is the user define object of the computer class but if you check above a is the object for string data type & in java we called this as constructor\n",
    "print(type(com1))       "
   ]
  },
  {
   "cell_type": "code",
   "execution_count": 23,
   "id": "0436b3cc-73b1-41b2-b75a-049250d85f65",
   "metadata": {},
   "outputs": [
    {
     "name": "stdout",
     "output_type": "stream",
     "text": [
      "i5 8gb\n"
     ]
    }
   ],
   "source": [
    "class computer():     \n",
    "    def config():   \n",
    "        print('i5', '8gb')\n",
    "\n",
    "com1 = computer()\n",
    "\n",
    "computer.config()"
   ]
  },
  {
   "cell_type": "code",
   "execution_count": 5,
   "id": "44b1137f-8383-43ff-89ae-c2fe240131c4",
   "metadata": {},
   "outputs": [
    {
     "name": "stdout",
     "output_type": "stream",
     "text": [
      "i5 8gb\n"
     ]
    }
   ],
   "source": [
    "class computer():     \n",
    "    def config(self):   \n",
    "        print('i5', '8gb')\n",
    "\n",
    "com1 = computer()\n",
    "\n",
    "computer.config(com1)"
   ]
  },
  {
   "cell_type": "code",
   "execution_count": 27,
   "id": "ecdebec1-a1e9-445a-b787-a3dae8695759",
   "metadata": {},
   "outputs": [
    {
     "name": "stdout",
     "output_type": "stream",
     "text": [
      "i5 8gb\n"
     ]
    }
   ],
   "source": [
    "class computer():     \n",
    "    def config(self):   \n",
    "        print('i5', '8gb')\n",
    "\n",
    "com1 = computer()\n",
    "\n",
    "computer.config(com1)"
   ]
  },
  {
   "cell_type": "code",
   "execution_count": 28,
   "id": "f23d8ba8-71fd-4b68-9dcc-e77f455981a4",
   "metadata": {},
   "outputs": [
    {
     "name": "stdout",
     "output_type": "stream",
     "text": [
      "i5 8gb\n"
     ]
    }
   ],
   "source": [
    "class computer():     \n",
    "    def config():   \n",
    "        print('i5', '8gb')\n",
    "\n",
    "com1 = computer()\n",
    "\n",
    "computer.config()"
   ]
  },
  {
   "cell_type": "code",
   "execution_count": 30,
   "id": "d9897b63-6a75-47fd-b457-fc7f9371864d",
   "metadata": {},
   "outputs": [
    {
     "name": "stdout",
     "output_type": "stream",
     "text": [
      "i5 8gb\n"
     ]
    }
   ],
   "source": [
    "class computer():     \n",
    "    def config(self):   \n",
    "        print('i5', '8gb')\n",
    "\n",
    "com1 = computer()\n",
    "\n",
    "com1.config()"
   ]
  },
  {
   "cell_type": "markdown",
   "id": "f8c27832-7132-42e5-9353-0aae17358173",
   "metadata": {},
   "source": [
    "# user define method vs special method "
   ]
  },
  {
   "cell_type": "code",
   "execution_count": 6,
   "id": "3aa5cf36-eca7-4134-b57f-aa21c4ffb990",
   "metadata": {},
   "outputs": [
    {
     "data": {
      "text/plain": [
       "'__main__'"
      ]
     },
     "execution_count": 6,
     "metadata": {},
     "output_type": "execute_result"
    }
   ],
   "source": [
    "__name__"
   ]
  },
  {
   "cell_type": "markdown",
   "id": "ab6330a5-20cc-4a9d-a591-5f29dea4e35a",
   "metadata": {},
   "source": [
    "- __init__ # why it special "
   ]
  },
  {
   "cell_type": "code",
   "execution_count": 7,
   "id": "193c566e-3a11-4609-a619-f7fcc04f3d11",
   "metadata": {},
   "outputs": [
    {
     "name": "stdout",
     "output_type": "stream",
     "text": [
      "i5 8gb\n"
     ]
    }
   ],
   "source": [
    "class computer:        \n",
    "    def config(self):      \n",
    "        print('i5', '8gb')\n",
    "\n",
    "com1 = computer()\n",
    "\n",
    "com1.config()"
   ]
  },
  {
   "cell_type": "code",
   "execution_count": 8,
   "id": "40b4a03a-556e-4a04-81bc-58aaa3a61896",
   "metadata": {},
   "outputs": [
    {
     "name": "stdout",
     "output_type": "stream",
     "text": [
      "i7 16gb\n"
     ]
    }
   ],
   "source": [
    "class computer:\n",
    "    def __init__(self):\n",
    "        print('i7', '16gb')\n",
    "       \n",
    "c1 = computer()"
   ]
  },
  {
   "cell_type": "code",
   "execution_count": 9,
   "id": "ef010be4-e234-4096-ba2a-511194645608",
   "metadata": {},
   "outputs": [
    {
     "name": "stdout",
     "output_type": "stream",
     "text": [
      "i7 16gb\n",
      "i7 16gb\n",
      "i7 16gb\n"
     ]
    }
   ],
   "source": [
    "class computer:\n",
    "    def __init__(self):\n",
    "        print('i7', '16gb')\n",
    "       \n",
    "c1 = computer()\n",
    "c2 = computer()\n",
    "c3 = computer()"
   ]
  },
  {
   "cell_type": "code",
   "execution_count": 12,
   "id": "1d4b80cf-14e9-42b4-a2a4-58d1d97d2ebd",
   "metadata": {},
   "outputs": [
    {
     "name": "stdout",
     "output_type": "stream",
     "text": [
      "i7 16gb\n",
      "i5 8gb\n"
     ]
    }
   ],
   "source": [
    "class computer:  \n",
    "       \n",
    "    def config(self):      \n",
    "        print('i5', '8gb')\n",
    "        \n",
    "    def __init__(self):\n",
    "        print('i7', '16gb')\n",
    "\n",
    "com1 = computer()\n",
    "\n",
    "com1.config()\n"
   ]
  },
  {
   "cell_type": "code",
   "execution_count": 13,
   "id": "1c2d6748-f608-4883-b0ee-5fc8ecc12534",
   "metadata": {},
   "outputs": [
    {
     "name": "stdout",
     "output_type": "stream",
     "text": [
      "i7 16gb\n",
      "i5 8gb\n",
      "i7 16gb\n"
     ]
    }
   ],
   "source": [
    "class computer:  \n",
    "       \n",
    "    def config(self):      \n",
    "        print('i5', '8gb')\n",
    "        \n",
    "    def __init__(self):\n",
    "        print('i7', '16gb')\n",
    "\n",
    "com1 = computer()\n",
    "\n",
    "com1.config()\n",
    "com1.__init__()"
   ]
  },
  {
   "cell_type": "code",
   "execution_count": 14,
   "id": "4a1e43ab-6953-46cf-bcfb-f6e9c3b789c6",
   "metadata": {},
   "outputs": [
    {
     "name": "stdout",
     "output_type": "stream",
     "text": [
      "in init\n"
     ]
    }
   ],
   "source": [
    "class computer:        \n",
    "    \n",
    "    def __init__(self):\n",
    "        print('in init')\n",
    "    \n",
    "    def config(self):     \n",
    "        print('i5', '8gb')\n",
    "\n",
    "com1 = computer()"
   ]
  },
  {
   "cell_type": "code",
   "execution_count": 16,
   "id": "ed0c73e0-754f-47e3-87f1-6771f1c80341",
   "metadata": {},
   "outputs": [
    {
     "name": "stdout",
     "output_type": "stream",
     "text": [
      "i7 16gb\n",
      "i7 16gb\n",
      "i5 8gb\n",
      "i5 8gb\n"
     ]
    }
   ],
   "source": [
    "class computer:  \n",
    "       \n",
    "    def config(self):      \n",
    "        print('i5', '8gb')\n",
    "        \n",
    "    def __init__(self):\n",
    "        print('i7', '16gb')\n",
    "\n",
    "com1 = computer()\n",
    "com2 = computer()\n",
    "\n",
    "com1.config()\n",
    "com2.config()"
   ]
  },
  {
   "cell_type": "code",
   "execution_count": 17,
   "id": "52e6bd78-ff3b-4926-838a-3a1456fde1be",
   "metadata": {},
   "outputs": [
    {
     "ename": "TypeError",
     "evalue": "computer.__init__() takes 1 positional argument but 3 were given",
     "output_type": "error",
     "traceback": [
      "\u001b[1;31m---------------------------------------------------------------------------\u001b[0m",
      "\u001b[1;31mTypeError\u001b[0m                                 Traceback (most recent call last)",
      "Cell \u001b[1;32mIn[17], line 9\u001b[0m\n\u001b[0;32m      6\u001b[0m     \u001b[38;5;28;01mdef\u001b[39;00m \u001b[38;5;21mconfig\u001b[39m(\u001b[38;5;28mself\u001b[39m):     \n\u001b[0;32m      7\u001b[0m         \u001b[38;5;28mprint\u001b[39m(\u001b[38;5;124m'\u001b[39m\u001b[38;5;124mi5\u001b[39m\u001b[38;5;124m'\u001b[39m, \u001b[38;5;124m'\u001b[39m\u001b[38;5;124m8gb\u001b[39m\u001b[38;5;124m'\u001b[39m)\n\u001b[1;32m----> 9\u001b[0m com1 \u001b[38;5;241m=\u001b[39m computer(\u001b[38;5;124m'\u001b[39m\u001b[38;5;124mi5\u001b[39m\u001b[38;5;124m'\u001b[39m, \u001b[38;5;241m8\u001b[39m) \u001b[38;5;66;03m# com1 has cpu i5 & ram is 8 \u001b[39;00m\n\u001b[0;32m     10\u001b[0m com2 \u001b[38;5;241m=\u001b[39m computer(\u001b[38;5;124m'\u001b[39m\u001b[38;5;124mi7\u001b[39m\u001b[38;5;124m'\u001b[39m, \u001b[38;5;241m16\u001b[39m) \u001b[38;5;66;03m# com2 has cpu intel 5 & ram is 8 as we have 2 computer we have different ram & cpt\u001b[39;00m\n\u001b[0;32m     12\u001b[0m com1\u001b[38;5;241m.\u001b[39mconfig() \n",
      "\u001b[1;31mTypeError\u001b[0m: computer.__init__() takes 1 positional argument but 3 were given"
     ]
    }
   ],
   "source": [
    "class computer:        \n",
    "    \n",
    "    def __init__(self): #__init__ means to initialize the variable\n",
    "        print('in init')\n",
    "    \n",
    "    def config(self):     \n",
    "        print('i5', '8gb')\n",
    "\n",
    "com1 = computer('i5', 8) # com1 has cpu i5 & ram is 8 \n",
    "com2 = computer('i7', 16) # com2 has cpu intel 5 & ram is 8 as we have 2 computer we have different ram & cpt\n",
    "\n",
    "com1.config() \n",
    "com2.config()"
   ]
  },
  {
   "cell_type": "code",
   "execution_count": 18,
   "id": "7df7e9a7-edc9-48b7-a9f2-76e257ef5347",
   "metadata": {},
   "outputs": [
    {
     "name": "stdout",
     "output_type": "stream",
     "text": [
      "in init\n",
      "in init\n",
      "i5 8gb\n",
      "i7 16\n",
      "i5 8gb\n",
      "i7 16\n"
     ]
    }
   ],
   "source": [
    "class computer:        \n",
    "    \n",
    "    def __init__(self,cpu,ram): \n",
    "        print('in init')\n",
    "    \n",
    "    def config(self):     \n",
    "        print('i5', '8gb')\n",
    "        print('i7', 16)\n",
    "\n",
    "com1 = computer('i5', 8)\n",
    "com2 = computer('i7', 16)\n",
    "\n",
    "com1.config() \n",
    "com2.config()"
   ]
  },
  {
   "cell_type": "code",
   "execution_count": 20,
   "id": "760676f7-78d0-4d5d-ab89-1a069c583da7",
   "metadata": {},
   "outputs": [
    {
     "name": "stdout",
     "output_type": "stream",
     "text": [
      "in init\n",
      "in init\n",
      "i5 8gb 50000\n",
      "i7 16 70000\n",
      "i5 8gb 50000\n",
      "i7 16 70000\n"
     ]
    }
   ],
   "source": [
    "class computer:        \n",
    "    \n",
    "    def __init__(self,cpu,ram, price): \n",
    "        print('in init')\n",
    "    \n",
    "    def config(self):     \n",
    "        print('i5', '8gb', 50000)\n",
    "        print('i7', 16, 70000)\n",
    "\n",
    "com1 = computer('i5', 8, 50000)\n",
    "com2 = computer('i7', 16, 70000)\n",
    "\n",
    "com1.config() \n",
    "com2.config()"
   ]
  },
  {
   "cell_type": "code",
   "execution_count": 22,
   "id": "56c62339-c393-4033-96b0-8051766abdd5",
   "metadata": {},
   "outputs": [
    {
     "name": "stdout",
     "output_type": "stream",
     "text": [
      "config is: i5 8\n",
      "config is: i7 16\n"
     ]
    }
   ],
   "source": [
    "class computer:  \n",
    "    def __init__(self,cpu,ram): # cpu & ram as argument\n",
    "        self.cpu = cpu \n",
    "        self.ram = ram \n",
    "  \n",
    "    def config(self):     \n",
    "        print('config is:', self.cpu, self.ram)\n",
    "\n",
    "com1 = computer('i5', 8)\n",
    "com2 = computer('i7', 16)\n",
    "\n",
    "com1.config() \n",
    "com2.config()"
   ]
  },
  {
   "cell_type": "code",
   "execution_count": 26,
   "id": "239a27a5-ed62-4fa5-9c60-62124dfe3648",
   "metadata": {},
   "outputs": [
    {
     "name": "stdout",
     "output_type": "stream",
     "text": [
      "config is: i5 8 20000 not ssd\n",
      "config is: i7 16 30000 ssd\n"
     ]
    }
   ],
   "source": [
    "class computer:  \n",
    "    def __init__(self,cpu,ram,price,memory): # cpu & ram as argument\n",
    "        self.cpu = cpu \n",
    "        self.ram = ram \n",
    "        self.price=price\n",
    "        self.memory=memory\n",
    "  \n",
    "    def config(self):     \n",
    "        print('config is:', self.cpu, self.ram, self.price, self.memory)\n",
    "\n",
    "com1 = computer('i5', 8, 20000, 'not ssd')\n",
    "com2 = computer('i7', 16, 30000, 'ssd')\n",
    "\n",
    "\n",
    "com1.config() \n",
    "com2.config()"
   ]
  },
  {
   "cell_type": "code",
   "execution_count": 28,
   "id": "fdbaa3cd-4857-4701-87cc-ebe185c0c7ba",
   "metadata": {},
   "outputs": [
    {
     "name": "stdout",
     "output_type": "stream",
     "text": [
      "config is: i5 8 20000 not ssd\n",
      "config is: i7 16 30000 ssd\n",
      "config is: i9 32 45000 gpu\n"
     ]
    }
   ],
   "source": [
    "class computer:  \n",
    "    def __init__(self,cpu,ram,price,memory): # cpu & ram as argument\n",
    "        self.cpu = cpu \n",
    "        self.ram = ram \n",
    "        self.price=price\n",
    "        self.memory=memory\n",
    "  \n",
    "    def config(self):     \n",
    "        print('config is:', self.cpu, self.ram, self.price, self.memory)\n",
    "\n",
    "com1 = computer('i5', 8, 20000, 'not ssd')\n",
    "com2 = computer('i7', 16, 30000, 'ssd')\n",
    "com3 = computer('i9', 32, 45000, 'gpu')\n",
    "\n",
    "com1.config() \n",
    "com2.config()\n",
    "com3.config()"
   ]
  },
  {
   "cell_type": "markdown",
   "id": "dfafa27f-9fb7-47e5-9a16-928024c8da91",
   "metadata": {},
   "source": [
    "# constructor & self"
   ]
  },
  {
   "cell_type": "code",
   "execution_count": 29,
   "id": "543574af-2d1b-4de7-945c-a69668a37125",
   "metadata": {},
   "outputs": [
    {
     "ename": "IndentationError",
     "evalue": "expected an indented block after class definition on line 1 (506882634.py, line 3)",
     "output_type": "error",
     "traceback": [
      "\u001b[1;36m  Cell \u001b[1;32mIn[29], line 3\u001b[1;36m\u001b[0m\n\u001b[1;33m    c1 = computer()\u001b[0m\n\u001b[1;37m    ^\u001b[0m\n\u001b[1;31mIndentationError\u001b[0m\u001b[1;31m:\u001b[0m expected an indented block after class definition on line 1\n"
     ]
    }
   ],
   "source": [
    "class computer: \n",
    "   \n",
    "c1 = computer() \n",
    "print(id(c1))"
   ]
  },
  {
   "cell_type": "code",
   "execution_count": 30,
   "id": "39c27d28-3f56-49bb-950f-8025a2dca77f",
   "metadata": {},
   "outputs": [
    {
     "name": "stdout",
     "output_type": "stream",
     "text": [
      "2053356961872\n"
     ]
    }
   ],
   "source": [
    "class computer: \n",
    "    pass\n",
    "   \n",
    "c1 = computer() \n",
    "print(id(c1))"
   ]
  },
  {
   "cell_type": "code",
   "execution_count": 31,
   "id": "fed4ae6b-65e0-473b-b091-e3df78f4648e",
   "metadata": {},
   "outputs": [
    {
     "name": "stdout",
     "output_type": "stream",
     "text": [
      "2053356975888\n",
      "2053356961872\n"
     ]
    }
   ],
   "source": [
    "class computer:\n",
    "    pass\n",
    "\n",
    "c1 = computer()\n",
    "c2 = computer()\n",
    "\n",
    "print(id(c1))\n",
    "print(id(c2))"
   ]
  },
  {
   "cell_type": "code",
   "execution_count": 33,
   "id": "317c4ade-8ab0-4ffe-bc89-a0ca4f69cbc7",
   "metadata": {},
   "outputs": [
    {
     "name": "stdout",
     "output_type": "stream",
     "text": [
      "akash 37\n",
      "akash 37\n"
     ]
    }
   ],
   "source": [
    "class computer():\n",
    "    def __init__(self):\n",
    "        self.name = 'akash'\n",
    "        self.age = 37\n",
    "\n",
    "c1 = computer()\n",
    "c2 = computer()\n",
    "\n",
    "print(c1.name,c1.age)\n",
    "print(c2.name, c2.age)"
   ]
  },
  {
   "cell_type": "code",
   "execution_count": 34,
   "id": "72d2c96d-5fe3-46e0-b515-e079e9d56534",
   "metadata": {},
   "outputs": [
    {
     "name": "stdout",
     "output_type": "stream",
     "text": [
      "akash 37\n"
     ]
    }
   ],
   "source": [
    "class computer:\n",
    "    def __init__(self):\n",
    "        self.name = 'akash'\n",
    "        self.age = 37\n",
    "\n",
    "c1 = computer()\n",
    "c2 = computer()\n",
    "\n",
    "print(c1.name, c1.age)\n",
    "#print(c2.name, c2.age)"
   ]
  },
  {
   "cell_type": "code",
   "execution_count": 35,
   "id": "0914dc8f-861e-47c9-a8e3-91e46beecdad",
   "metadata": {},
   "outputs": [
    {
     "name": "stdout",
     "output_type": "stream",
     "text": [
      "rakesh\n",
      "mit\n"
     ]
    }
   ],
   "source": [
    "class computer():\n",
    "    def __init__(self):\n",
    "        self.name = 'akash'\n",
    "        self.age = 37\n",
    "\n",
    "c1 = computer()\n",
    "c2 = computer()\n",
    "\n",
    "c2.name = 'mit'\n",
    "c1.name = 'rakesh'\n",
    "\n",
    "print(c1.name)\n",
    "print(c2.name)"
   ]
  },
  {
   "cell_type": "code",
   "execution_count": 36,
   "id": "0bbb2702-7b06-4bf8-aa7a-0acaf3720347",
   "metadata": {},
   "outputs": [
    {
     "name": "stdout",
     "output_type": "stream",
     "text": [
      "2053356975888\n",
      "2053375495200\n",
      "mit 23\n",
      "nit\n"
     ]
    }
   ],
   "source": [
    "class computer:\n",
    "    def __init__(self):\n",
    "        self.name = 'nit'\n",
    "        self.age = 37\n",
    "\n",
    "c1 = computer()\n",
    "c2 = computer()\n",
    "\n",
    "print(id(c1))\n",
    "print(id(c2))\n",
    "\n",
    "c1.name = 'mit'\n",
    "c1.age = 23\n",
    "\n",
    "print(c1.name, c1.age)\n",
    "#print(c1.age)\n",
    "print(c2.name)\n"
   ]
  },
  {
   "cell_type": "code",
   "execution_count": 41,
   "id": "11f7970e-6b5d-49ae-9e47-c24e99823862",
   "metadata": {},
   "outputs": [
    {
     "name": "stdout",
     "output_type": "stream",
     "text": [
      "2053356986560\n",
      "2053375495824\n",
      "nit 20\n",
      "nit 37\n"
     ]
    }
   ],
   "source": [
    "class computer:\n",
    "    def __init__(self):\n",
    "        self.name = 'nit'\n",
    "        self.age = 37\n",
    "    \n",
    "    def update(self):  #lets create another object \n",
    "        self.age = 30 \n",
    "\n",
    "c1 = computer()\n",
    "c2 = computer()\n",
    "\n",
    "print(id(c1))\n",
    "print(id(c2))\n",
    "\n",
    "c1.name = 'nit'\n",
    "c1.age = 20\n",
    "\n",
    "#c1.update() #when we call update which value will change & i am not mentioning which object i am talking about\n",
    "\n",
    "print(c1.name, c1.age)\n",
    "print(c2.name, c2.age)"
   ]
  },
  {
   "cell_type": "code",
   "execution_count": null,
   "id": "e405bb92-7372-4c85-acda-cb393c13d4ed",
   "metadata": {},
   "outputs": [],
   "source": []
  }
 ],
 "metadata": {
  "kernelspec": {
   "display_name": "Python 3 (ipykernel)",
   "language": "python",
   "name": "python3"
  },
  "language_info": {
   "codemirror_mode": {
    "name": "ipython",
    "version": 3
   },
   "file_extension": ".py",
   "mimetype": "text/x-python",
   "name": "python",
   "nbconvert_exporter": "python",
   "pygments_lexer": "ipython3",
   "version": "3.12.7"
  }
 },
 "nbformat": 4,
 "nbformat_minor": 5
}
