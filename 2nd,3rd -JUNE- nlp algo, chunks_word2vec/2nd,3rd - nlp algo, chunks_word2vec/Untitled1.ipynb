{
 "cells": [
  {
   "cell_type": "code",
   "execution_count": 1,
   "id": "e09d5306-2044-4ba8-9bd3-79713add41bb",
   "metadata": {},
   "outputs": [
    {
     "name": "stderr",
     "output_type": "stream",
     "text": [
      "Xet Storage is enabled for this repo, but the 'hf_xet' package is not installed. Falling back to regular HTTP download. For better performance, install the package with: `pip install huggingface_hub[hf_xet]` or `pip install hf_xet`\n"
     ]
    },
    {
     "data": {
      "application/vnd.jupyter.widget-view+json": {
       "model_id": "46b2515a6a4c4db5ab06c88ea6555b50",
       "version_major": 2,
       "version_minor": 0
      },
      "text/plain": [
       "model.safetensors:   0%|          | 0.00/548M [00:00<?, ?B/s]"
      ]
     },
     "metadata": {},
     "output_type": "display_data"
    },
    {
     "name": "stderr",
     "output_type": "stream",
     "text": [
      "C:\\Users\\User\\anaconda3\\Lib\\site-packages\\huggingface_hub\\file_download.py:144: UserWarning: `huggingface_hub` cache-system uses symlinks by default to efficiently store duplicated files but your machine does not support them in C:\\Users\\User\\.cache\\huggingface\\hub\\models--gpt2. Caching files will still work but in a degraded version that might require more space on your disk. This warning can be disabled by setting the `HF_HUB_DISABLE_SYMLINKS_WARNING` environment variable. For more details, see https://huggingface.co/docs/huggingface_hub/how-to-cache#limitations.\n",
      "To support symlinks on Windows, you either need to activate Developer Mode or to run Python as an administrator. In order to activate developer mode, see this article: https://docs.microsoft.com/en-us/windows/apps/get-started/enable-your-device-for-development\n",
      "  warnings.warn(message)\n"
     ]
    },
    {
     "data": {
      "application/vnd.jupyter.widget-view+json": {
       "model_id": "a6f417b577b941c7b5a14b08a7d55a43",
       "version_major": 2,
       "version_minor": 0
      },
      "text/plain": [
       "generation_config.json:   0%|          | 0.00/124 [00:00<?, ?B/s]"
      ]
     },
     "metadata": {},
     "output_type": "display_data"
    },
    {
     "name": "stderr",
     "output_type": "stream",
     "text": [
      "Device set to use cpu\n",
      "Truncation was not explicitly activated but `max_length` is provided a specific value, please use `truncation=True` to explicitly truncate examples to max length. Defaulting to 'longest_first' truncation strategy. If you encode pairs of sequences (GLUE-style) with the tokenizer you can select this strategy more precisely by providing a specific strategy to `truncation`.\n",
      "Setting `pad_token_id` to `eos_token_id`:50256 for open-end generation.\n",
      "Both `max_new_tokens` (=256) and `max_length`(=30) seem to have been set. `max_new_tokens` will take precedence. Please refer to the documentation for more information. (https://huggingface.co/docs/transformers/main/en/main_classes/text_generation)\n"
     ]
    },
    {
     "data": {
      "text/plain": [
       "[{'generated_text': \"Hello, I'm a language model, I'm a language model. In my mind, I'm doing the same thing as you. All these different people are thinking about the same thing.\\n\\nI'm not talking about what the computer program does. I'm talking about what I'm thinking about. I'm thinking about what my body is thinking about. I'm thinking about what I'm making it. I'm thinking about what I'm making it. What my body is doing. I'm thinking about what my body is thinking about. What's my body doing? What's my body doing? What's my body doing?\\n\\nLet's talk about this, I'm not a computer programmer. I'm not a software developer. I'm not a computer programmer. I'm not a language model. I'm not a language model. My body is thinking about what I'm doing. What is my body doing? What's my body doing? What's my body doing?\\n\\nNow, I'm not saying that this is a good thing. But if you want to get better at programming, you can get better at writing. You can get better at being human. You can get better at being human. And you can do that.\\n\\nThat means that you can learn to play guitar,\"},\n",
       " {'generated_text': 'Hello, I\\'m a language model, and I\\'m trying to understand what you\\'re saying. In English, I have two English words: \"l\" and \"es.\" In Dutch, I have two Dutch words: \"n\" (pronounced \"noor\"), and \"no.\" In English, I have two English words: \"t\" (pronounced \"tore\"), and \"nh.\" In French, I have two French words: \"n\" (pronounced \"nou\"), and \"n.\" In German, I have two German words: \"n\" (pronounced \"nh\"), and \"n.\" In German, I have two German words: \"n\" (pronounced \"nh\"), and \"n.\" In Italian, I have two Italian words: \"n\" (pronounced \"nuh\"), and \"n.\" In Russian, I have two Russian words: \"n\" (pronounced \"nuh\"), and \"n.\" In Spanish, I have two Spanish words: \"n\" (pronounced \"nuh\"), and \"n.\" In German, I have two German words: \"n\" (pronounced \"nuh\"), and \"n.\" In Italian, I have two Italian words: \"n\" (pronounced \"nuh\"), and \"'},\n",
       " {'generated_text': \"Hello, I'm a language model, so I don't get much of a chance to interact with objects. But I did find that I can do things like check the state of a specific object in an expression, check the state of a certain object in a function, etc. I find that it's something I can do just as well, but that's not really something I'm aware of.\\n\\nAs an interpreter, it's always nice to know that I can do something with my code. I can write things on the fly and write things in a way that I've never done before.\\n\\nHowever, in my opinion, one of the most important things I want to do is to write things that I see as things that you have to talk about. You have to tell me what I want to do, and I can't be sure if I'm actually doing any of that. I probably want to write something like this:\\n\\nfunction MyFunction ( value ) { return value ; }\\n\\nNow, you can't just write that, but you can do something like this:\\n\\nfunction MyFunction ( value ) { return value ; }\\n\\nI can do that in two ways. One way, I can write something like this:\\n\\nfunction MyFunction ( value ) {\"},\n",
       " {'generated_text': 'Hello, I\\'m a language model, a language model, a language model.\"'},\n",
       " {'generated_text': \"Hello, I'm a language model, not a toolkit.\\n\\nIn a nutshell, I need to give language models a set of properties that I could use to describe them in real life.\\n\\nIf I wanted to create a new variable named foo, I could do just that.\\n\\nHowever, the problem is that I'm not ready for most of the functions.\\n\\nIn this post, I'll show you how to create a new variable named foo and then define all the fields that you need.\\n\\nIf you haven't already, you can read about how to create and define variables in the next post.\\n\\nThe next post is going to cover how to create and define a variable named foo.\\n\\nIn this post, I'll show you how to create and define variables in the context of the language model.\\n\\nIn the next post, I'll show you how to create and define variables in the context of the Java language model.\\n\\nI've always been on the lookout for a good starting point for writing a language model, which is exactly what I'm going to do by using this tutorial.\\n\\nI'm quite happy with the results so far, and I hope you like it.\\n\\nI hope that this post will be useful.\\n\\nAdvertisements\"}]"
      ]
     },
     "execution_count": 1,
     "metadata": {},
     "output_type": "execute_result"
    }
   ],
   "source": [
    "from transformers import pipeline, set_seed\n",
    "generator = pipeline('text-generation', model='gpt2')\n",
    "set_seed(42)\n",
    "generator(\"Hello, I'm a language model,\", max_length=30, num_return_sequences=5)"
   ]
  },
  {
   "cell_type": "code",
   "execution_count": null,
   "id": "ae94287d-313a-4510-8e6b-e235995f832c",
   "metadata": {},
   "outputs": [],
   "source": []
  }
 ],
 "metadata": {
  "kernelspec": {
   "display_name": "Python 3 (ipykernel)",
   "language": "python",
   "name": "python3"
  },
  "language_info": {
   "codemirror_mode": {
    "name": "ipython",
    "version": 3
   },
   "file_extension": ".py",
   "mimetype": "text/x-python",
   "name": "python",
   "nbconvert_exporter": "python",
   "pygments_lexer": "ipython3",
   "version": "3.12.7"
  }
 },
 "nbformat": 4,
 "nbformat_minor": 5
}
